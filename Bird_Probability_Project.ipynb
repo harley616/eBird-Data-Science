{
 "cells": [
  {
   "cell_type": "markdown",
   "id": "218aac60",
   "metadata": {},
   "source": [
    "# Welcome to the Bird Probability Project"
   ]
  },
  {
   "cell_type": "code",
   "execution_count": 2,
   "id": "0eece46e",
   "metadata": {
    "ExecuteTime": {
     "end_time": "2024-04-23T20:48:34.608804Z",
     "start_time": "2024-04-23T20:48:34.106845Z"
    }
   },
   "outputs": [],
   "source": [
    "import pandas as pd\n",
    "import numpy as np\n"
   ]
  },
  {
   "cell_type": "code",
   "execution_count": 22,
   "id": "0c896ff0",
   "metadata": {
    "ExecuteTime": {
     "end_time": "2024-04-23T21:15:51.850346Z",
     "start_time": "2024-04-23T21:15:46.988893Z"
    }
   },
   "outputs": [
    {
     "data": {
      "text/html": [
       "<div>\n",
       "<style scoped>\n",
       "    .dataframe tbody tr th:only-of-type {\n",
       "        vertical-align: middle;\n",
       "    }\n",
       "\n",
       "    .dataframe tbody tr th {\n",
       "        vertical-align: top;\n",
       "    }\n",
       "\n",
       "    .dataframe thead th {\n",
       "        text-align: right;\n",
       "    }\n",
       "</style>\n",
       "<table border=\"1\" class=\"dataframe\">\n",
       "  <thead>\n",
       "    <tr style=\"text-align: right;\">\n",
       "      <th></th>\n",
       "      <th>Unnamed: 0</th>\n",
       "      <th>COMMON NAME</th>\n",
       "      <th>COUNTY</th>\n",
       "      <th>COUNTY CODE</th>\n",
       "      <th>LATITUDE</th>\n",
       "      <th>LONGITUDE</th>\n",
       "      <th>OBSERVATION DATE</th>\n",
       "      <th>NUMBER OBSERVERS</th>\n",
       "    </tr>\n",
       "  </thead>\n",
       "  <tbody>\n",
       "    <tr>\n",
       "      <th>0</th>\n",
       "      <td>0</td>\n",
       "      <td>Accipiter sp.</td>\n",
       "      <td>Adams</td>\n",
       "      <td>US-CO-001</td>\n",
       "      <td>39.947339</td>\n",
       "      <td>-104.747209</td>\n",
       "      <td>2020-01-10</td>\n",
       "      <td>1.0</td>\n",
       "    </tr>\n",
       "    <tr>\n",
       "      <th>1</th>\n",
       "      <td>1</td>\n",
       "      <td>American Crow</td>\n",
       "      <td>Adams</td>\n",
       "      <td>US-CO-001</td>\n",
       "      <td>39.797274</td>\n",
       "      <td>-104.931060</td>\n",
       "      <td>2020-01-01</td>\n",
       "      <td>5.0</td>\n",
       "    </tr>\n",
       "    <tr>\n",
       "      <th>2</th>\n",
       "      <td>2</td>\n",
       "      <td>American Crow</td>\n",
       "      <td>Adams</td>\n",
       "      <td>US-CO-001</td>\n",
       "      <td>39.789034</td>\n",
       "      <td>-104.905840</td>\n",
       "      <td>2020-01-02</td>\n",
       "      <td>1.0</td>\n",
       "    </tr>\n",
       "    <tr>\n",
       "      <th>3</th>\n",
       "      <td>3</td>\n",
       "      <td>American Crow</td>\n",
       "      <td>Adams</td>\n",
       "      <td>US-CO-001</td>\n",
       "      <td>39.830492</td>\n",
       "      <td>-104.948991</td>\n",
       "      <td>2020-01-01</td>\n",
       "      <td>10.0</td>\n",
       "    </tr>\n",
       "    <tr>\n",
       "      <th>4</th>\n",
       "      <td>4</td>\n",
       "      <td>American Crow</td>\n",
       "      <td>Adams</td>\n",
       "      <td>US-CO-001</td>\n",
       "      <td>39.830492</td>\n",
       "      <td>-104.948991</td>\n",
       "      <td>2020-01-01</td>\n",
       "      <td>10.0</td>\n",
       "    </tr>\n",
       "  </tbody>\n",
       "</table>\n",
       "</div>"
      ],
      "text/plain": [
       "   Unnamed: 0    COMMON NAME COUNTY COUNTY CODE   LATITUDE   LONGITUDE  \\\n",
       "0           0  Accipiter sp.  Adams   US-CO-001  39.947339 -104.747209   \n",
       "1           1  American Crow  Adams   US-CO-001  39.797274 -104.931060   \n",
       "2           2  American Crow  Adams   US-CO-001  39.789034 -104.905840   \n",
       "3           3  American Crow  Adams   US-CO-001  39.830492 -104.948991   \n",
       "4           4  American Crow  Adams   US-CO-001  39.830492 -104.948991   \n",
       "\n",
       "  OBSERVATION DATE  NUMBER OBSERVERS  \n",
       "0       2020-01-10               1.0  \n",
       "1       2020-01-01               5.0  \n",
       "2       2020-01-02               1.0  \n",
       "3       2020-01-01              10.0  \n",
       "4       2020-01-01              10.0  "
      ]
     },
     "execution_count": 22,
     "metadata": {},
     "output_type": "execute_result"
    }
   ],
   "source": [
    "# data = pd.read_csv('ebd_US-CO_202001_202312_smp_relMar-2024/ebd_US-CO_202001_202312_smp_relMar-2024.txt', sep = '\\t')\n",
    "# data = data[['COMMON NAME', 'COUNTY', 'COUNTY CODE', 'LATITUDE', 'LONGITUDE', 'OBSERVATION DATE', 'NUMBER OBSERVERS']]\n",
    "# data.to_csv('bird_data.csv')\n",
    "\n",
    "data = pd.read_csv('bird_data.csv')\n",
    "\n",
    "data.head(5)"
   ]
  },
  {
   "cell_type": "code",
   "execution_count": null,
   "id": "5f703571",
   "metadata": {},
   "outputs": [],
   "source": []
  }
 ],
 "metadata": {
  "kernelspec": {
   "display_name": "Python 3 (ipykernel)",
   "language": "python",
   "name": "python3"
  },
  "language_info": {
   "codemirror_mode": {
    "name": "ipython",
    "version": 3
   },
   "file_extension": ".py",
   "mimetype": "text/x-python",
   "name": "python",
   "nbconvert_exporter": "python",
   "pygments_lexer": "ipython3",
   "version": "3.11.5"
  }
 },
 "nbformat": 4,
 "nbformat_minor": 5
}
