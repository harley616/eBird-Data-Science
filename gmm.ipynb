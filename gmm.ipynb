{
 "cells": [
  {
   "cell_type": "markdown",
   "id": "218aac60",
   "metadata": {},
   "source": [
    "# Gausian Mixture Model for Bird Data"
   ]
  },
  {
   "cell_type": "code",
   "execution_count": 1,
   "id": "0eece46e",
   "metadata": {
    "ExecuteTime": {
     "end_time": "2024-04-24T16:24:43.759887Z",
     "start_time": "2024-04-24T16:24:43.257908Z"
    },
    "tags": []
   },
   "outputs": [],
   "source": [
    "import matplotlib.pyplot as plt\n",
    "import numpy as np\n",
    "import pandas as pd\n",
    "import scipy.stats as stats\n",
    "import statsmodels.api as sm\n"
   ]
  },
  {
   "cell_type": "code",
   "execution_count": null,
   "id": "0c896ff0",
   "metadata": {
    "ExecuteTime": {
     "end_time": "2024-04-24T16:24:48.888358Z",
     "start_time": "2024-04-24T16:24:43.760870Z"
    },
    "tags": []
   },
   "outputs": [],
   "source": [
    "# data = pd.read_csv('ebd_US-CO_202001_202312_smp_relMar-2024/ebd_US-CO_202001_202312_smp_relMar-2024.txt', sep = '\\t')\n",
    "# data = data[['COMMON NAME', 'COUNTY', 'COUNTY CODE', 'LATITUDE', 'LONGITUDE', 'OBSERVATION DATE', 'NUMBER OBSERVERS']]\n",
    "# data.to_csv('bird_data.csv')\n",
    "\n",
    "data = pd.read_csv('bird_data.csv')\n",
    "\n",
    "data.head(5)\n",
    "\n",
    "df = data[['COMMON NAME', 'LATITUDE', 'LONGITUDE']]"
   ]
  },
  {
   "cell_type": "code",
   "execution_count": null,
   "id": "5d8acdfd",
   "metadata": {
    "ExecuteTime": {
     "end_time": "2024-04-24T16:24:49.539234Z",
     "start_time": "2024-04-24T16:24:48.889641Z"
    },
    "tags": []
   },
   "outputs": [],
   "source": [
    "plt.scatter(df['LATITUDE'], df['LONGITUDE'])\n",
    "plt.title('Initial Scatter Plot')\n",
    "plt.xlabel('Latitude')\n",
    "plt.ylabel('Longitude')\n",
    "plt.show()"
   ]
  },
  {
   "cell_type": "code",
   "execution_count": null,
   "id": "0d3a9dc3-14ea-4f3b-ab39-f44f4f83b3ba",
   "metadata": {},
   "outputs": [],
   "source": [
    "# Used the starter code on canvas\n",
    "\n",
    "def GMM(dat, k):\n",
    "    ##\n",
    "    \n",
    "    # define some variables\n",
    "    covars = np.zeros((k,2,2)) # covariance matrix\n",
    "    means = np.zeros((k,2)) # mean values of each component\n",
    "    p_class = np.zeros(k) # W_m (weights/likelihood of each component)\n",
    "    p_data_given_class = np.zeros((len(dat),k)) # P(x_i | cluster = m)\n",
    "    \n",
    "    # initialize means, covs, p_classes\n",
    "    init_idx = np.random.choice(range(len(dat)), size=k, replace=False) # initalizations of starting points used to initialize means\n",
    "    \n",
    "    # initialize covariance matrix, means, and p_class for each k\n",
    "    for dim in range(k):\n",
    "        # set cov matrix of each component to the cov of the entire dataset\n",
    "        covars[dim,:,:] = np.cov(np.transpose(dat))\n",
    "        \n",
    "        # set initial means to the initial chosen data points\n",
    "        means[dim, :] = dat.iloc[init_idx[dim]]\n",
    "        \n",
    "        # give each component equal weighting to start\n",
    "        p_class[dim] = 1/k\n",
    "        \n",
    "    # iterate: for loop alternating between: (1) Expectation Step and (2) Maximization Step\n",
    "    for _ in range(50):\n",
    "        \n",
    "        # Expectation Step\n",
    "        for i in range(k):\n",
    "            p_data_given_class[:,i] = stats.multivariate_normal.pdf(dat, mean=means[i], cov=covars[i])\n",
    "        \n",
    "        p_class_given_data = p_data_given_class * p_class\n",
    "        p_class_given_data = p_class_given_data / p_class_given_data.sum(axis=1,keepdims=True)\n",
    "        \n",
    "        # Maximization Step\n",
    "        for i in range(k):\n",
    "            \n",
    "            # update weights\n",
    "            p_class[i] = np.mean(p_class_given_data[:,i])\n",
    "            \n",
    "            # update means\n",
    "            means[i] = np.average(dat, weights=p_class_given_data[:,i],axis=0)\n",
    "            \n",
    "            # update covariances\n",
    "            diff = dat - means[i]\n",
    "            covars[i] = np.dot(p_class_given_data[:,i]*diff.T,diff) / np.sum(p_class_given_data[:,i])\n",
    "        \n",
    "    # compute mean distance\n",
    "    dat_array = dat.to_numpy()\n",
    "    mean_dist = np.sum(np.sum(p_class_given_data * np.linalg.norm(dat_array[:, np.newaxis, :] - means, axis=2), axis=1)) / dat_array.shape[0]\n",
    "\n",
    "    return p_class_given_data, means, covars, p_class, mean_dist"
   ]
  },
  {
   "cell_type": "code",
   "execution_count": null,
   "id": "317de988-0b76-4fae-b954-303f80c2157f",
   "metadata": {},
   "outputs": [],
   "source": [
    "k_values = [1,2,3,4,5,6,7,8]\n",
    "distances = []\n",
    "\n",
    "for k in k_values:\n",
    "    p_class_given_data, means, covars, p_class, mean_dist = GMM(df,k)\n",
    "    distances.append(mean_dist)\n",
    "    \n",
    "plt.plot(k_values, distances, marker = 'o')\n",
    "plt.title('Elbow Plot')\n",
    "plt.xlabel('Number of Clusters (k)')\n",
    "plt.ylabel('Weighted-Mean-Distance to Component')\n",
    "plt.show()"
   ]
  },
  {
   "cell_type": "code",
   "execution_count": null,
   "id": "0131a847-f514-496b-a416-ad97ef626286",
   "metadata": {},
   "outputs": [],
   "source": [
    "# perform GMM for k=3\n",
    "p_class_given_data, means, covars, p_class, mean_dist = GMM(df, 3)\n",
    "\n",
    "# determine the cluster assignment for each data point\n",
    "cluster_assignment = np.argmax(p_class_given_data, axis=1)\n",
    "\n",
    "# plot data points with color according to the cluster assignment\n",
    "plt.scatter(df['lat'], df['lng'], c=cluster_assignment, cmap='viridis', s=10)\n",
    "plt.title('k=3')\n",
    "plt.xlabel('Latitude')\n",
    "plt.ylabel('Longitude')\n",
    "plt.colorbar(label='Cluster')\n",
    "plt.show()\n"
   ]
  }
 ],
 "metadata": {
  "kernelspec": {
   "display_name": "Python 3 (ipykernel)",
   "language": "python",
   "name": "python3"
  },
  "language_info": {
   "codemirror_mode": {
    "name": "ipython",
    "version": 3
   },
   "file_extension": ".py",
   "mimetype": "text/x-python",
   "name": "python",
   "nbconvert_exporter": "python",
   "pygments_lexer": "ipython3",
   "version": "3.10.8"
  },
  "vscode": {
   "interpreter": {
    "hash": "d4d1e4263499bec80672ea0156c357c1ee493ec2b1c70f0acce89fc37c4a6abe"
   }
  }
 },
 "nbformat": 4,
 "nbformat_minor": 5
}
