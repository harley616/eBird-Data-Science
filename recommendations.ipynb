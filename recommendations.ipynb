{
 "cells": [
  {
   "cell_type": "markdown",
   "id": "218aac60",
   "metadata": {},
   "source": [
    "# Welcome to the Bird Probability Project\n",
    "\n",
    "To run this code ensure you have downloaded the 'bird_data.csv' data set. See the README.md for details on where to download the data"
   ]
  },
  {
   "cell_type": "code",
   "execution_count": 131,
   "id": "0eece46e",
   "metadata": {
    "ExecuteTime": {
     "end_time": "2024-04-24T16:24:43.759887Z",
     "start_time": "2024-04-24T16:24:43.257908Z"
    },
    "tags": []
   },
   "outputs": [],
   "source": [
    "import math\n",
    "import pandas as pd\n",
    "import numpy as np\n",
    "import datetime\n",
    "import random\n",
    "import json\n"
   ]
  },
  {
   "cell_type": "code",
   "execution_count": 132,
   "id": "0c896ff0",
   "metadata": {
    "ExecuteTime": {
     "end_time": "2024-04-24T16:24:48.888358Z",
     "start_time": "2024-04-24T16:24:43.760870Z"
    },
    "tags": []
   },
   "outputs": [
    {
     "data": {
      "text/html": [
       "<div>\n",
       "<style scoped>\n",
       "    .dataframe tbody tr th:only-of-type {\n",
       "        vertical-align: middle;\n",
       "    }\n",
       "\n",
       "    .dataframe tbody tr th {\n",
       "        vertical-align: top;\n",
       "    }\n",
       "\n",
       "    .dataframe thead th {\n",
       "        text-align: right;\n",
       "    }\n",
       "</style>\n",
       "<table border=\"1\" class=\"dataframe\">\n",
       "  <thead>\n",
       "    <tr style=\"text-align: right;\">\n",
       "      <th></th>\n",
       "      <th>Unnamed: 0</th>\n",
       "      <th>COMMON NAME</th>\n",
       "      <th>COUNTY</th>\n",
       "      <th>COUNTY CODE</th>\n",
       "      <th>LATITUDE</th>\n",
       "      <th>LONGITUDE</th>\n",
       "      <th>OBSERVATION DATE</th>\n",
       "      <th>NUMBER OBSERVERS</th>\n",
       "    </tr>\n",
       "  </thead>\n",
       "  <tbody>\n",
       "    <tr>\n",
       "      <th>0</th>\n",
       "      <td>0</td>\n",
       "      <td>Accipiter sp.</td>\n",
       "      <td>Adams</td>\n",
       "      <td>US-CO-001</td>\n",
       "      <td>39.947339</td>\n",
       "      <td>-104.747209</td>\n",
       "      <td>2020-01-10</td>\n",
       "      <td>1.0</td>\n",
       "    </tr>\n",
       "    <tr>\n",
       "      <th>1</th>\n",
       "      <td>1</td>\n",
       "      <td>American Crow</td>\n",
       "      <td>Adams</td>\n",
       "      <td>US-CO-001</td>\n",
       "      <td>39.797274</td>\n",
       "      <td>-104.931060</td>\n",
       "      <td>2020-01-01</td>\n",
       "      <td>5.0</td>\n",
       "    </tr>\n",
       "    <tr>\n",
       "      <th>2</th>\n",
       "      <td>2</td>\n",
       "      <td>American Crow</td>\n",
       "      <td>Adams</td>\n",
       "      <td>US-CO-001</td>\n",
       "      <td>39.789034</td>\n",
       "      <td>-104.905840</td>\n",
       "      <td>2020-01-02</td>\n",
       "      <td>1.0</td>\n",
       "    </tr>\n",
       "    <tr>\n",
       "      <th>3</th>\n",
       "      <td>3</td>\n",
       "      <td>American Crow</td>\n",
       "      <td>Adams</td>\n",
       "      <td>US-CO-001</td>\n",
       "      <td>39.830492</td>\n",
       "      <td>-104.948991</td>\n",
       "      <td>2020-01-01</td>\n",
       "      <td>10.0</td>\n",
       "    </tr>\n",
       "    <tr>\n",
       "      <th>4</th>\n",
       "      <td>4</td>\n",
       "      <td>American Crow</td>\n",
       "      <td>Adams</td>\n",
       "      <td>US-CO-001</td>\n",
       "      <td>39.830492</td>\n",
       "      <td>-104.948991</td>\n",
       "      <td>2020-01-01</td>\n",
       "      <td>10.0</td>\n",
       "    </tr>\n",
       "  </tbody>\n",
       "</table>\n",
       "</div>"
      ],
      "text/plain": [
       "   Unnamed: 0    COMMON NAME COUNTY COUNTY CODE   LATITUDE   LONGITUDE  \\\n",
       "0           0  Accipiter sp.  Adams   US-CO-001  39.947339 -104.747209   \n",
       "1           1  American Crow  Adams   US-CO-001  39.797274 -104.931060   \n",
       "2           2  American Crow  Adams   US-CO-001  39.789034 -104.905840   \n",
       "3           3  American Crow  Adams   US-CO-001  39.830492 -104.948991   \n",
       "4           4  American Crow  Adams   US-CO-001  39.830492 -104.948991   \n",
       "\n",
       "  OBSERVATION DATE  NUMBER OBSERVERS  \n",
       "0       2020-01-10               1.0  \n",
       "1       2020-01-01               5.0  \n",
       "2       2020-01-02               1.0  \n",
       "3       2020-01-01              10.0  \n",
       "4       2020-01-01              10.0  "
      ]
     },
     "execution_count": 132,
     "metadata": {},
     "output_type": "execute_result"
    }
   ],
   "source": [
    "# data = pd.read_csv('ebd_US-CO_202001_202312_smp_relMar-2024/ebd_US-CO_202001_202312_smp_relMar-2024.txt', sep = '\\t')\n",
    "# data = data[['COMMON NAME', 'COUNTY', 'COUNTY CODE', 'LATITUDE', 'LONGITUDE', 'OBSERVATION DATE', 'NUMBER OBSERVERS']]\n",
    "# data.to_csv('bird_data.csv')\n",
    "\n",
    "data = pd.read_csv('bird_data.csv')\n",
    "\n",
    "data.head(5)"
   ]
  },
  {
   "cell_type": "code",
   "execution_count": 133,
   "id": "5d8acdfd",
   "metadata": {
    "ExecuteTime": {
     "end_time": "2024-04-24T16:24:49.539234Z",
     "start_time": "2024-04-24T16:24:48.889641Z"
    },
    "tags": []
   },
   "outputs": [],
   "source": [
    "counties = data['COUNTY'].unique()\n",
    "birds = data['COMMON NAME'].unique()\n",
    "\n",
    "rawDate = datetime.datetime.now()\n",
    "\n",
    "month = rawDate.month\n",
    "day = rawDate.day\n",
    "\n",
    "\n",
    "def getBirds(day, month, plusOrMinus):\n",
    "    \"\"\"\n",
    "    returns a data frame of birds that have been observed from various years during the same day and month\n",
    "    plus_or_minus so many days.\n",
    "    \n",
    "    \"\"\"\n",
    "    def distance(date, target):\n",
    "        '''\n",
    "        Helper function\n",
    "        returns the number of days away the date is from the target\n",
    "        '''\n",
    "        givenMonth = int(date[5:7])\n",
    "        targetMonth = int(target[5:7])\n",
    "        givenDay = int(date[8:])\n",
    "        targetDay = int(target[8:])\n",
    "        \n",
    "        total = abs(givenMonth - targetMonth)*30 #grab the difference in months\n",
    "        \n",
    "        if givenMonth > targetMonth:\n",
    "            total = total - targetDay + givenDay\n",
    "        elif givenMonth < targetMonth:\n",
    "            total = total - givenDay + targetDay\n",
    "        else: \n",
    "            total = abs(givenDay - targetDay)\n",
    "        \n",
    "        return total\n",
    "        \n",
    "     \n",
    "    if month > 10:\n",
    "        target = 'xxxx-{}-{}'.format(month,day) if day > 10 else 'xxxx-{}-0{}'.format(month,day)\n",
    "    else:\n",
    "        target = 'xxxx-0{}-{}'.format(month,day) if day > 10 else 'xxxx-0{}-0{}'.format(month,day)\n",
    "        \n",
    "\n",
    "    # This is not the best implementation, I am just lazy and didn't want to search for the right one (help if you can)\n",
    "    mask = pd.Series([distance(date, target) <= plusOrMinus for date in data['OBSERVATION DATE']])\n",
    "        \n",
    "    return data[mask]\n",
    "\n",
    "\n",
    "class Item:\n",
    "    def __init__(self, name, birds, birdCounts = {}):\n",
    "        self.name = name\n",
    "        self.features = {}\n",
    "        self.birdCounts = birdCounts #dictionary of bird name and count \n",
    "        \n",
    "    def getFeatures(self):\n",
    "        big = max(list(self.birdCounts.values()))\n",
    "        for bird in self.birdCounts:\n",
    "            self.features[bird] = self.birdCounts[bird]/big\n",
    "        \n",
    "    \n",
    "class User:\n",
    "    def __init__(self, ratings, birds):\n",
    "        self.features = {}\n",
    "        self.ratings = ratings\n",
    "        \n",
    "    def getFeatures(self):\n",
    "        big = max(list(self.ratings.values()))\n",
    "        for bird in self.ratings:\n",
    "            self.features[bird] = self.ratings[bird]/big\n",
    "\n",
    "\n",
    "def eucDist(a, b): \n",
    "    total = 0\n",
    "    for (i,j) in zip(a,b):\n",
    "        total += (i-j)**2\n",
    "    return math.sqrt(total)\n",
    "    "
   ]
  },
  {
   "cell_type": "markdown",
   "id": "c3da12b2",
   "metadata": {},
   "source": [
    "### Concern:\n",
    "Features are going to be the proportion of that bird in the area. Should this be weighted by count? If so that could skew the data so cities with higher populations get better ratings, so probably not. "
   ]
  },
  {
   "cell_type": "code",
   "execution_count": 134,
   "id": "eb9d4dcc",
   "metadata": {
    "ExecuteTime": {
     "end_time": "2024-04-24T16:24:55.371991Z",
     "start_time": "2024-04-24T16:24:49.540654Z"
    },
    "tags": []
   },
   "outputs": [],
   "source": [
    "seasonal_birds_within_20_days = getBirds(day,month, 10)\n",
    "\n",
    "unique_birds_in_season = seasonal_birds_within_20_days['COMMON NAME'].unique()\n",
    "\n",
    "groupByCounty = data.groupby(by = [\"COUNTY\"])['COMMON NAME'].value_counts()\n",
    "\n",
    "groupByCounty\n",
    "\n",
    "\n",
    "\n",
    "\n",
    "\n",
    "\n",
    "countyFeatures = []\n",
    "\n",
    "for county in counties:\n",
    "    counts = {i: groupByCounty[county][i] for i in groupByCounty[county].index}\n",
    "    countyFeatures.append(Item(county, birds, counts))\n",
    "\n",
    "\n",
    "for county in countyFeatures:\n",
    "    county.getFeatures()"
   ]
  },
  {
   "cell_type": "code",
   "execution_count": 135,
   "id": "4dd93841",
   "metadata": {
    "ExecuteTime": {
     "end_time": "2024-04-24T16:27:13.125899Z",
     "start_time": "2024-04-24T16:27:13.103280Z"
    },
    "tags": []
   },
   "outputs": [
    {
     "name": "stdout",
     "output_type": "stream",
     "text": [
      "Please enter in your favorite birds and your rating for them out of 5! \n",
      "Please use dictionary format: \n",
      "{\"Canada Goose\": 5, \"Common Raven\":5} \n",
      "Here are some example birds for you to choose from: \n",
      "\n",
      " ['Pacific Loon', 'Short-billed Dowitcher', \"Black x Say's Phoebe (hybrid)\", 'Redhead x Lesser Scaup (hybrid)', 'Northern Harrier', \"Forster's/Common Tern\", 'jaeger sp.', 'yellow-bellied kingbird sp.', 'Black-bellied Plover/golden-plover sp.', 'Great Horned Owl'] \n",
      "\n",
      "Enter \"Q\" to quit\n",
      "Or \"C\" to use the example dictionary as your bird scores\n"
     ]
    },
    {
     "name": "stdin",
     "output_type": "stream",
     "text": [
      " C\n"
     ]
    },
    {
     "name": "stdout",
     "output_type": "stream",
     "text": [
      "The best counties to see the birds you like are:  ['Jackson', 'Montrose', 'Mesa', 'Montezuma', 'Alamosa']\n"
     ]
    }
   ],
   "source": [
    "def getUserInput():\n",
    "    '''\n",
    "    Recieve input from user to get user's favorite bird scores\n",
    "    returns dictionary of user's bird scores\n",
    "    '''\n",
    "    randomBirds = random.choices(list(birds), k=10)\n",
    "    print('Please enter in your favorite birds and your '\\\n",
    "              'rating for them out of 5! \\nPlease use dictionary '\\\n",
    "              'format: \\n{{\"Canada Goose\": 5, \"Common Raven\":5}} \\n'\\\n",
    "              'Here are some example birds for you to choose from: \\n\\n {} \\n\\n'\\\n",
    "              'Enter \"Q\" to quit\\nOr \"C\" to use the example dictionary as your bird scores'.format(randomBirds))\n",
    "    while True:  \n",
    "        userInput = input()\n",
    "        if userInput == 'Q':\n",
    "            print('Exiting...')\n",
    "            return 'EXIT'\n",
    "        if userInput == 'C': # Shortcut for testing!!\n",
    "            return {\"Canada Goose\": 5, \"Common Raven\":5}\n",
    "        try:\n",
    "            dictBirds = json.loads(userInput)\n",
    "            print('Input recieved, calculating best counties for you to visit...\\n')\n",
    "            return dictBirds\n",
    "        except json.JSONDecodeError:\n",
    "            print(\"Please make sure your input is in the correct dictionary format.\\n\")\n",
    "\n",
    "            \n",
    "            \n",
    "            \n",
    "            \n",
    "            \n",
    "def getTop5Counties(user):\n",
    "    '''\n",
    "    Find top 5 counties for user\n",
    "    Use cosine similarity to compare user's scores to county's bird populations\n",
    "    returns list containing top 5 counties\n",
    "    '''\n",
    "    \n",
    "    countyScores = []\n",
    "    \n",
    "    for county in countyFeatures:\n",
    "        # Only calculate cosine similrity on\n",
    "        # birds (in counties) the user has rated (has a non-zero value)\n",
    "        user_ratings = []\n",
    "        county_ratings = []\n",
    "        for index, (bird, user_rating) in enumerate(user.features.items()):\n",
    "            if user_rating != 0:\n",
    "                user_ratings.append(user_rating)\n",
    "                county_ratings.append(county.features.get(bird, 0))  # If bird not in county features, use 0\n",
    "        countyScores.append((county, eucDist(user_ratings, county_ratings)))\n",
    "    countyScores = sorted(countyScores, key = lambda x: x[1], reverse=False)\n",
    "    # for (county, score) in countyScores[:5]:\n",
    "    #     print(f'{county.name} score of Canada Goose: {county.features[\"Canada Goose\"]}, Common Raven: {county.features[\"Common Raven\"]}')\n",
    "    top5 = [x[0].name for x in countyScores[:5]]\n",
    "    return top5\n",
    "\n",
    "\n",
    "\n",
    "\n",
    "\n",
    "def recomendedCounties():\n",
    "    '''\n",
    "    Combine the above functions into a final one liner recomendedCounties function\n",
    "    Prompts the user for their favorite birds\n",
    "    returns the recomended counties for a user to visit\n",
    "    '''\n",
    "    ratings = getUserInput() # Get user ratings\n",
    "    if ratings == 'EXIT':\n",
    "        return\n",
    "    user = User(ratings, birds)\n",
    "    user.getFeatures()\n",
    "    top5 = getTop5Counties(user) \n",
    "    print('The best counties to see the birds you like are: ', top5)\n",
    "    \n",
    "            \n",
    "        \n",
    "        \n",
    "        \n",
    "recomendedCounties()"
   ]
  },
  {
   "cell_type": "markdown",
   "id": "95c1aa44-f18e-4a82-9408-f676bbeffd0c",
   "metadata": {},
   "source": [
    "# Sanity Checks\n",
    "\n",
    "There are 4 sanity checks. To skip to the results of a sanity check, in each cell look at the large comment surrownded by ''' '''. If you would like to run more component of the sanity checks yourself, uncomment some commented out portions of code"
   ]
  },
  {
   "cell_type": "markdown",
   "id": "3c743f4d-881e-433f-89c6-5f23f1dfc784",
   "metadata": {},
   "source": [
    "#### Santiy Check 1:\n",
    "\n",
    "Test if recomended counties have high concentration of users favorite bird.\n",
    "\n",
    "EX: If user loves Turkey Vultures (user's Turkey Vulture normalized rating is 1.0) then the counties which are recomended should have a very high normalized Turkey Vulture rating (around 1.0)"
   ]
  },
  {
   "cell_type": "code",
   "execution_count": 124,
   "id": "764dc6a0-0cb9-4bf4-b354-3fd72a9d8cec",
   "metadata": {
    "tags": []
   },
   "outputs": [
    {
     "name": "stdout",
     "output_type": "stream",
     "text": [
      "Please enter in your favorite birds and your rating for them out of 5! \n",
      "Please use dictionary format: \n",
      "{\"Canada Goose\": 5, \"Common Raven\":5} \n",
      "Here are some example birds for you to choose from: \n",
      "\n",
      " ['Least Bittern', 'Golden-winged x Blue-winged Warbler (hybrid)', 'Black-headed Grosbeak', 'Dunlin', 'Greater Yellowlegs', 'White Ibis', 'Glossy/White-faced Ibis', 'Greater Sage-Grouse', 'Surf/Black Scoter', 'Long-tailed/Parasitic Jaeger'] \n",
      "\n",
      "Enter \"Q\" to quit\n",
      "Or \"C\" to use the example dictionary as your bird scores\n"
     ]
    },
    {
     "name": "stdin",
     "output_type": "stream",
     "text": [
      " {\"House Finch\": 5}\n"
     ]
    },
    {
     "name": "stdout",
     "output_type": "stream",
     "text": [
      "Input recieved, calculating best counties for you to visit...\n",
      "\n",
      "The best counties to see the birds you like are:  ['Arapahoe', 'Boulder', 'Broomfield', 'Denver', 'Douglas']\n"
     ]
    }
   ],
   "source": [
    "# Game Plan:\n",
    "# - Find a bird which has a rating of 1.0 in a county\n",
    "# - Make a list of counties which has selectBird rating of 1.0\n",
    "# - Run recomendedCounties() and enter in that specific bird. We expect to see the counties with the highest % of that bird appearing as most frequent.\n",
    "\n",
    "# Debugging code:\n",
    "# - Inside recomended counties\n",
    "# - - Output bird scores in those counties\n",
    "# - - Also output the total score each of the counties got after cosine sim. We expect the counties with select bird ratng of 1.0 have the same rating\n",
    "\n",
    "\n",
    "\n",
    "\n",
    "# #  This iterates through each county and prints bird names with a score of 1.0\n",
    "# for county in countyFeatures:\n",
    "#     print(\"Birds with a rating of 1.0 in\", county.name + \":\")\n",
    "#     for bird, rating in county.features.items():\n",
    "#         if rating == 1.0:\n",
    "#             print(bird)\n",
    "\n",
    "# # Find bird with rating of 1.0 in a county\n",
    "# selectBird = 'House Finch'\n",
    "# print(\"Counties with a\", selectBird, \"rating of 1.0:\")\n",
    "# for county in countyFeatures:\n",
    "#     for bird, rating in county.features.items():\n",
    "#         if bird == selectBird and rating == 1.0:\n",
    "#             print(county.name)\n",
    "       \n",
    "    \n",
    "'''\n",
    "These counties have a 'House Finch' rating of 1.0\n",
    "Arapahoe\n",
    "Boulder\n",
    "Broomfield\n",
    "Denver\n",
    "Douglas\n",
    "Elbert\n",
    "El Paso\n",
    "Jefferson\n",
    "\n",
    "Running recomendedCounties() and inputting {\"House Finch\": 5} we expect to get 5 of the above counties recomended to us\n",
    "\n",
    "It recomends we visit the counties:\n",
    "['Arapahoe', 'Boulder', 'Broomfield', 'Denver', 'Douglas']\n",
    "\n",
    "Success\n",
    "'''\n",
    "recomendedCounties()"
   ]
  },
  {
   "cell_type": "markdown",
   "id": "c5d7b0b9-4505-4645-af83-2f93061de119",
   "metadata": {},
   "source": [
    "#### Santiy Check 2:\n",
    "\n",
    "Test if recomended counties have high concentration of users favorite birds.\n",
    "\n",
    "This is the same as Sanity Check 1, but now with multiple birds which are the user's favorite"
   ]
  },
  {
   "cell_type": "code",
   "execution_count": 125,
   "id": "600550df-f849-4f88-a02b-24f7766139cb",
   "metadata": {
    "tags": []
   },
   "outputs": [
    {
     "name": "stdout",
     "output_type": "stream",
     "text": [
      "Counties with a rating >= 0.7 of Canada Goose and Common Raven\n",
      "Jackson\n",
      "Mesa\n",
      "Montrose\n",
      "Please enter in your favorite birds and your rating for them out of 5! \n",
      "Please use dictionary format: \n",
      "{\"Canada Goose\": 5, \"Common Raven\":5} \n",
      "Here are some example birds for you to choose from: \n",
      "\n",
      " [\"Ross's Goose\", 'Common Merganser', \"Western x Clark's Grebe (hybrid)\", 'Common Goldeneye x Hooded Merganser (hybrid)', 'White-winged Crossbill', 'Dunlin', 'bluebird sp.', \"Anna's Hummingbird\", 'Eastern/Chihuahuan Meadowlark', 'Common Yellowthroat'] \n",
      "\n",
      "Enter \"Q\" to quit\n",
      "Or \"C\" to use the example dictionary as your bird scores\n"
     ]
    },
    {
     "name": "stdin",
     "output_type": "stream",
     "text": [
      " {\"Canada Goose\": 5, \"Common Raven\":5}\n"
     ]
    },
    {
     "name": "stdout",
     "output_type": "stream",
     "text": [
      "Input recieved, calculating best counties for you to visit...\n",
      "\n",
      "The best counties to see the birds you like are:  ['Jackson', 'Montrose', 'Mesa', 'Montezuma', 'Alamosa']\n"
     ]
    }
   ],
   "source": [
    "'''\n",
    "Game Plan:\n",
    "- Find a bird which has a rating of 1.0 in a county\n",
    "- Make a list of counties which has selectBird rating of 1.0\n",
    "- Run recomendedCounties() and enter in that specific bird. We expect to see the counties with the highest % of that bird appearing as most frequent.\n",
    "\n",
    "Debugging code:\n",
    "- Inside recomended counties\n",
    "- - Output bird scores in those counties\n",
    "- - Also output the total score each of the counties got after cosine sim. We expect the counties with select bird ratng of 1.0 have the same rating\n",
    "'''\n",
    "\n",
    "\n",
    "\n",
    "\n",
    "# #  This iterates through each county and prints bird names with a score > 0.99\n",
    "# for county in countyFeatures:\n",
    "#     print(\"Birds with a rating >= 0.99 in\", county.name + \":\")\n",
    "#     for bird, rating in county.features.items():\n",
    "#         if rating >= 0.99:\n",
    "#             print(bird)\n",
    "\n",
    "# {\"Canada Goose\": 5, \"Common Raven\":5}\n",
    "\n",
    "\n",
    "\n",
    "# Find bird with rating of 1.0 in a county\n",
    "print(\"Counties with a rating >= 0.7 of Canada Goose and Common Raven\")\n",
    "for county in countyFeatures:\n",
    "    canada_goose_rating = county.features.get('Canada Goose', 0)\n",
    "    common_raven_rating = county.features.get('Common Raven', 0)\n",
    "    if canada_goose_rating >= 0.7 and common_raven_rating >= 0.7:\n",
    "        print(county.name)\n",
    "        \n",
    "        \n",
    "'''\n",
    "These counties have a rating >= 0.7 of Canada Goose and Common Raven\n",
    "Jackson\n",
    "Mesa\n",
    "Montrose\n",
    "\n",
    "We expect these counties to be among the top counties recomended\n",
    "\n",
    "It recomends we visit the counties:\n",
    "['Jackson', 'Montrose', 'Mesa', 'Montezuma', 'Alamosa']\n",
    "\n",
    "Success\n",
    "'''\n",
    "            \n",
    "\n",
    "# Running recomendedCounties() and inputting {\"House Finch\": 5} we expect to get 5 of the above counties recomended to us\n",
    "recomendedCounties()"
   ]
  },
  {
   "cell_type": "markdown",
   "id": "82d80a60-ef92-405f-8ae0-fddd31f5974b",
   "metadata": {},
   "source": [
    "#### Sanity check 3: \n",
    "We expect the user's favorite birds are among the most popular in the recomended counties"
   ]
  },
  {
   "cell_type": "code",
   "execution_count": 128,
   "id": "babc7669-a7d3-45e8-9db8-bf9e748e0a86",
   "metadata": {},
   "outputs": [
    {
     "name": "stdout",
     "output_type": "stream",
     "text": [
      "Ranking of 'Bald Eagle' in Adams County: top 15 out of 746 birds\n",
      "Ranking of 'Red-winged Blackbird' in Adams County: top 3 out of 746 birds\n",
      "Please enter in your favorite birds and your rating for them out of 5! \n",
      "Please use dictionary format: \n",
      "{\"Canada Goose\": 5, \"Common Raven\":5} \n",
      "Here are some example birds for you to choose from: \n",
      "\n",
      " ['Rock Pigeon', 'Common Goldeneye', 'Peregrine Falcon', \"Vaux's Swift\", 'Budgerigar', 'Northern Bobwhite', 'Ash-throated Flycatcher', 'Ammospiza sp.', 'Anas sp.', 'Selasphorus sp.'] \n",
      "\n",
      "Enter \"Q\" to quit\n",
      "Or \"C\" to use the example dictionary as your bird scores\n"
     ]
    },
    {
     "name": "stdin",
     "output_type": "stream",
     "text": [
      " {\"Bald Eagle\": 5, \"Red-winged Blackbird\": 5}\n"
     ]
    },
    {
     "name": "stdout",
     "output_type": "stream",
     "text": [
      "Input recieved, calculating best counties for you to visit...\n",
      "\n",
      "The best counties to see the birds you like are:  ['Adams', 'Morgan', 'Logan', 'Moffat', 'Washington']\n"
     ]
    }
   ],
   "source": [
    "countyName = 'Adams'\n",
    "\n",
    "# Get the seltected county\n",
    "for county in countyFeatures:\n",
    "    if county.name == countyName:\n",
    "        countySelect = county\n",
    "        break\n",
    "\n",
    "# Sort birds by frequency in the county\n",
    "sorted_birds = sorted(countySelect.features.items(), key=lambda x: x[1], reverse=True)\n",
    "\n",
    "\n",
    "# Find the ranking of Bald Eagle and Red-winged Blackbird\n",
    "bald_eagle_rank = None\n",
    "red_winged_blackbird_rank = None\n",
    "\n",
    "for i, (bird, _) in enumerate(sorted_birds, start=1):\n",
    "    if bird == \"Bald Eagle\":\n",
    "        bald_eagle_rank = i\n",
    "    elif bird == \"Red-winged Blackbird\":\n",
    "        red_winged_blackbird_rank = i\n",
    "\n",
    "print(\"Ranking of 'Bald Eagle' in\",countySelect.name,\"County: top\", bald_eagle_rank,'out of',len(birds),'birds')\n",
    "print(\"Ranking of 'Red-winged Blackbird' in\",countySelect.name,\"County: top\", red_winged_blackbird_rank,'out of',len(birds),'birds')\n",
    "\n",
    "\n",
    "'''\n",
    "In this test we entered n {\"Bald Eagle\": 5, \"Red-winged Blackbird\": 5}\n",
    "as our birds which are our most favorite\n",
    "\n",
    "The counties it recomends we visit are:\n",
    "['Adams', 'Morgan', 'Logan', 'Moffat', 'Washington']\n",
    "\n",
    "The top county is 'Adams' county\n",
    "\n",
    "In Adams county the 'Bald Eagle' is the top 15 most frequently seen out of 746 birds\n",
    "and the 'Red-winged Blackbird' is in the top 3 most frequntly out of 746 birds\n",
    "\n",
    "Success\n",
    "'''\n",
    "\n",
    "\n",
    "# Enter {\"Bald Eagle\": 5, \"Red-winged Blackbird\": 5} to run this sanity check\n",
    "recomendedCounties()"
   ]
  },
  {
   "cell_type": "markdown",
   "id": "fcb564f3-88e9-4b58-927f-b9421db6a571",
   "metadata": {},
   "source": [
    "#### Sanity Check 4:\n",
    "Another way to sanity check is to work backwards\n",
    "\n",
    "So we will take a selected county, see what it's most popular birds are, and then when a user inputs those birds as being their top, that county should be among the recomended"
   ]
  },
  {
   "cell_type": "code",
   "execution_count": 130,
   "id": "0bb79450-02cf-4650-ac70-7c6eda2eb300",
   "metadata": {
    "tags": []
   },
   "outputs": [
    {
     "name": "stdout",
     "output_type": "stream",
     "text": [
      "Top 5 birds in Phillips county: [('Mourning Dove', 1.0), ('Eurasian Collared-Dove', 0.9581151832460733), ('Western Meadowlark', 0.9336823734729494), ('Horned Lark', 0.9075043630017452), ('American Robin', 0.8446771378708552)] \n",
      "\n",
      "Please enter in your favorite birds and your rating for them out of 5! \n",
      "Please use dictionary format: \n",
      "{\"Canada Goose\": 5, \"Common Raven\":5} \n",
      "Here are some example birds for you to choose from: \n",
      "\n",
      " [\"Western/Clark's Grebe\", 'Acorn Woodpecker', 'Trumpeter Swan', 'Lark Bunting', \"Bewick's Wren\", 'Parasitic Jaeger', 'Red-necked Phalarope', 'Brant', 'Western/Chihuahuan Meadowlark', 'Golden Eagle'] \n",
      "\n",
      "Enter \"Q\" to quit\n",
      "Or \"C\" to use the example dictionary as your bird scores\n"
     ]
    },
    {
     "name": "stdin",
     "output_type": "stream",
     "text": [
      " {\"Mourning Dove\": 5, \"Eurasian Collared-Dove\": 5, \"Western Meadowlark\": 5, \"Horned Lark\": 5, \"American Robin\": 5}\n"
     ]
    },
    {
     "name": "stdout",
     "output_type": "stream",
     "text": [
      "Input recieved, calculating best counties for you to visit...\n",
      "\n",
      "The best counties to see the birds you like are:  ['Phillips', 'Kit Carson', 'Sedgwick', 'Morgan', 'Yuma']\n"
     ]
    }
   ],
   "source": [
    "countyName = 'Phillips'\n",
    "\n",
    "# Get the seltected county\n",
    "for county in countyFeatures:\n",
    "    if county.name == countyName:\n",
    "        countySelect = county\n",
    "        break\n",
    "        \n",
    "# Print top 5 birds in the selected county\n",
    "sorted_birds = sorted(countySelect.features.items(), key=lambda x: x[1], reverse=True)\n",
    "print(\"Top 5 birds in\",countySelect.name,\"county:\", sorted_birds[:5], \"\\n\")\n",
    "\n",
    "'''\n",
    "Here are the top 5 birds from Phillips county to test out\n",
    "[('Mourning Dove', 1.0),\n",
    "('Eurasian Collared-Dove', 0.9581151832460733), \n",
    "('Western Meadowlark', 0.9336823734729494), \n",
    "('Horned Lark', 0.9075043630017452), \n",
    "('American Robin', 0.8446771378708552)]\n",
    "\n",
    "So we enter in:\n",
    "{\"Mourning Dove\": 5, \"Eurasian Collared-Dove\": 5, \"Western Meadowlark\": 5, \"Horned Lark\": 5, \"American Robin\": 5}\n",
    "\n",
    "Here are the counties it recomends we visit:\n",
    "['Phillips', 'Kit Carson', 'Sedgwick', 'Morgan', 'Yuma']\n",
    "\n",
    "Success\n",
    "'''\n",
    "recomendedCounties()"
   ]
  },
  {
   "cell_type": "code",
   "execution_count": null,
   "id": "64150c10-c44c-426e-a3b0-b85771880ea0",
   "metadata": {},
   "outputs": [],
   "source": []
  }
 ],
 "metadata": {
  "kernelspec": {
   "display_name": "Python 3 (ipykernel)",
   "language": "python",
   "name": "python3"
  },
  "language_info": {
   "codemirror_mode": {
    "name": "ipython",
    "version": 3
   },
   "file_extension": ".py",
   "mimetype": "text/x-python",
   "name": "python",
   "nbconvert_exporter": "python",
   "pygments_lexer": "ipython3",
   "version": "3.11.5"
  }
 },
 "nbformat": 4,
 "nbformat_minor": 5
}
