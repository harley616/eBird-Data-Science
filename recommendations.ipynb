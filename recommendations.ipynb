{
 "cells": [
  {
   "cell_type": "markdown",
   "id": "218aac60",
   "metadata": {},
   "source": [
    "# Welcome to the Bird Probability Project"
   ]
  },
  {
   "cell_type": "code",
   "execution_count": 73,
   "id": "0eece46e",
   "metadata": {
    "ExecuteTime": {
     "end_time": "2024-04-24T16:24:43.759887Z",
     "start_time": "2024-04-24T16:24:43.257908Z"
    },
    "tags": []
   },
   "outputs": [],
   "source": [
    "import pandas as pd\n",
    "import numpy as np\n",
    "import datetime\n",
    "import random\n",
    "import json\n"
   ]
  },
  {
   "cell_type": "code",
   "execution_count": 74,
   "id": "0c896ff0",
   "metadata": {
    "ExecuteTime": {
     "end_time": "2024-04-24T16:24:48.888358Z",
     "start_time": "2024-04-24T16:24:43.760870Z"
    },
    "tags": []
   },
   "outputs": [
    {
     "data": {
      "text/html": [
       "<div>\n",
       "<style scoped>\n",
       "    .dataframe tbody tr th:only-of-type {\n",
       "        vertical-align: middle;\n",
       "    }\n",
       "\n",
       "    .dataframe tbody tr th {\n",
       "        vertical-align: top;\n",
       "    }\n",
       "\n",
       "    .dataframe thead th {\n",
       "        text-align: right;\n",
       "    }\n",
       "</style>\n",
       "<table border=\"1\" class=\"dataframe\">\n",
       "  <thead>\n",
       "    <tr style=\"text-align: right;\">\n",
       "      <th></th>\n",
       "      <th>Unnamed: 0</th>\n",
       "      <th>COMMON NAME</th>\n",
       "      <th>COUNTY</th>\n",
       "      <th>COUNTY CODE</th>\n",
       "      <th>LATITUDE</th>\n",
       "      <th>LONGITUDE</th>\n",
       "      <th>OBSERVATION DATE</th>\n",
       "      <th>NUMBER OBSERVERS</th>\n",
       "    </tr>\n",
       "  </thead>\n",
       "  <tbody>\n",
       "    <tr>\n",
       "      <th>0</th>\n",
       "      <td>0</td>\n",
       "      <td>Accipiter sp.</td>\n",
       "      <td>Adams</td>\n",
       "      <td>US-CO-001</td>\n",
       "      <td>39.947339</td>\n",
       "      <td>-104.747209</td>\n",
       "      <td>2020-01-10</td>\n",
       "      <td>1.0</td>\n",
       "    </tr>\n",
       "    <tr>\n",
       "      <th>1</th>\n",
       "      <td>1</td>\n",
       "      <td>American Crow</td>\n",
       "      <td>Adams</td>\n",
       "      <td>US-CO-001</td>\n",
       "      <td>39.797274</td>\n",
       "      <td>-104.931060</td>\n",
       "      <td>2020-01-01</td>\n",
       "      <td>5.0</td>\n",
       "    </tr>\n",
       "    <tr>\n",
       "      <th>2</th>\n",
       "      <td>2</td>\n",
       "      <td>American Crow</td>\n",
       "      <td>Adams</td>\n",
       "      <td>US-CO-001</td>\n",
       "      <td>39.789034</td>\n",
       "      <td>-104.905840</td>\n",
       "      <td>2020-01-02</td>\n",
       "      <td>1.0</td>\n",
       "    </tr>\n",
       "    <tr>\n",
       "      <th>3</th>\n",
       "      <td>3</td>\n",
       "      <td>American Crow</td>\n",
       "      <td>Adams</td>\n",
       "      <td>US-CO-001</td>\n",
       "      <td>39.830492</td>\n",
       "      <td>-104.948991</td>\n",
       "      <td>2020-01-01</td>\n",
       "      <td>10.0</td>\n",
       "    </tr>\n",
       "    <tr>\n",
       "      <th>4</th>\n",
       "      <td>4</td>\n",
       "      <td>American Crow</td>\n",
       "      <td>Adams</td>\n",
       "      <td>US-CO-001</td>\n",
       "      <td>39.830492</td>\n",
       "      <td>-104.948991</td>\n",
       "      <td>2020-01-01</td>\n",
       "      <td>10.0</td>\n",
       "    </tr>\n",
       "  </tbody>\n",
       "</table>\n",
       "</div>"
      ],
      "text/plain": [
       "   Unnamed: 0    COMMON NAME COUNTY COUNTY CODE   LATITUDE   LONGITUDE  \\\n",
       "0           0  Accipiter sp.  Adams   US-CO-001  39.947339 -104.747209   \n",
       "1           1  American Crow  Adams   US-CO-001  39.797274 -104.931060   \n",
       "2           2  American Crow  Adams   US-CO-001  39.789034 -104.905840   \n",
       "3           3  American Crow  Adams   US-CO-001  39.830492 -104.948991   \n",
       "4           4  American Crow  Adams   US-CO-001  39.830492 -104.948991   \n",
       "\n",
       "  OBSERVATION DATE  NUMBER OBSERVERS  \n",
       "0       2020-01-10               1.0  \n",
       "1       2020-01-01               5.0  \n",
       "2       2020-01-02               1.0  \n",
       "3       2020-01-01              10.0  \n",
       "4       2020-01-01              10.0  "
      ]
     },
     "execution_count": 74,
     "metadata": {},
     "output_type": "execute_result"
    }
   ],
   "source": [
    "# data = pd.read_csv('ebd_US-CO_202001_202312_smp_relMar-2024/ebd_US-CO_202001_202312_smp_relMar-2024.txt', sep = '\\t')\n",
    "# data = data[['COMMON NAME', 'COUNTY', 'COUNTY CODE', 'LATITUDE', 'LONGITUDE', 'OBSERVATION DATE', 'NUMBER OBSERVERS']]\n",
    "# data.to_csv('bird_data.csv')\n",
    "\n",
    "data = pd.read_csv('bird_data.csv')\n",
    "\n",
    "data.head(5)"
   ]
  },
  {
   "cell_type": "code",
   "execution_count": 75,
   "id": "5d8acdfd",
   "metadata": {
    "ExecuteTime": {
     "end_time": "2024-04-24T16:24:49.539234Z",
     "start_time": "2024-04-24T16:24:48.889641Z"
    },
    "tags": []
   },
   "outputs": [],
   "source": [
    "counties = data['COUNTY'].unique()\n",
    "birds = data['COMMON NAME'].unique()\n",
    "\n",
    "rawDate = datetime.datetime.now()\n",
    "\n",
    "month = rawDate.month\n",
    "day = rawDate.day\n",
    "\n",
    "\n",
    "def getBirds(day, month, plusOrMinus):\n",
    "    \"\"\"\n",
    "    returns a data frame of birds that have been observed from various years during the same day and month\n",
    "    plus_or_minus so many days.\n",
    "    \n",
    "    \"\"\"\n",
    "    def distance(date, target):\n",
    "        '''\n",
    "        Helper function\n",
    "        returns the number of days away the date is from the target\n",
    "        '''\n",
    "        givenMonth = int(date[5:7])\n",
    "        targetMonth = int(target[5:7])\n",
    "        givenDay = int(date[8:])\n",
    "        targetDay = int(target[8:])\n",
    "        \n",
    "        total = abs(givenMonth - targetMonth)*30 #grab the difference in months\n",
    "        \n",
    "        if givenMonth > targetMonth:\n",
    "            total = total - targetDay + givenDay\n",
    "        elif givenMonth < targetMonth:\n",
    "            total = total - givenDay + targetDay\n",
    "        else: \n",
    "            total = abs(givenDay - targetDay)\n",
    "        \n",
    "        return total\n",
    "        \n",
    "     \n",
    "    if month > 10:\n",
    "        target = 'xxxx-{}-{}'.format(month,day) if day > 10 else 'xxxx-{}-0{}'.format(month,day)\n",
    "    else:\n",
    "        target = 'xxxx-0{}-{}'.format(month,day) if day > 10 else 'xxxx-0{}-0{}'.format(month,day)\n",
    "        \n",
    "\n",
    "    # This is not the best implementation, I am just lazy and didn't want to search for the right one (help if you can)\n",
    "    mask = pd.Series([distance(date, target) <= plusOrMinus for date in data['OBSERVATION DATE']])\n",
    "        \n",
    "    return data[mask]\n",
    "\n",
    "\n",
    "class County:\n",
    "    def __init__(self, name, birds, birdCounts):\n",
    "        self.name = name\n",
    "        self.features = {bird: 0.0 for bird in birds}\n",
    "        self.birdCounts = birdCounts #dictionary of bird name and count \n",
    "        \n",
    "    def getFeatures(self):\n",
    "        big = max(list(self.birdCounts.values()))\n",
    "        for bird in self.birdCounts:\n",
    "            self.features[bird] = self.birdCounts[bird]/big\n",
    "        \n",
    "    \n",
    "class User:\n",
    "    def __init__(self, ratings, birds):\n",
    "        self.features = {bird: 0.0 for bird in birds}\n",
    "        self.ratings = ratings\n",
    "        \n",
    "    def getFeatures(self):\n",
    "        big = max(list(self.ratings.values()))\n",
    "        for bird in self.ratings:\n",
    "            self.features[bird] = self.ratings[bird]/big\n",
    "\n",
    "\n",
    "def cosSim(a, b):           \n",
    "    return np.dot(a, b)/(np.linalg.norm(a)*np.linalg.norm(b))\n",
    "    "
   ]
  },
  {
   "cell_type": "markdown",
   "id": "c3da12b2",
   "metadata": {},
   "source": [
    "### Concern:\n",
    "Features are going to be the proportion of that bird in the area. Should this be weighted by count? If so that could skew the data so cities with higher populations get better ratings, so probably not. "
   ]
  },
  {
   "cell_type": "code",
   "execution_count": 76,
   "id": "eb9d4dcc",
   "metadata": {
    "ExecuteTime": {
     "end_time": "2024-04-24T16:24:55.371991Z",
     "start_time": "2024-04-24T16:24:49.540654Z"
    },
    "tags": []
   },
   "outputs": [
    {
     "data": {
      "text/plain": [
       "COUNTY  COMMON NAME         \n",
       "Adams   Canada Goose            19275\n",
       "        European Starling       18137\n",
       "        Red-winged Blackbird    17126\n",
       "        Mallard                 17013\n",
       "        Red-tailed Hawk         14750\n",
       "                                ...  \n",
       "Yuma    grebe sp.                   1\n",
       "        heron sp.                   1\n",
       "        small falcon sp.            1\n",
       "        teal sp.                    1\n",
       "        wren sp.                    1\n",
       "Name: COMMON NAME, Length: 22281, dtype: int64"
      ]
     },
     "execution_count": 76,
     "metadata": {},
     "output_type": "execute_result"
    }
   ],
   "source": [
    "# \n",
    "seasonal_birds_within_20_days = getBirds(day,month, 10)\n",
    "\n",
    "unique_birds_in_season = seasonal_birds_within_20_days['COMMON NAME'].unique()\n",
    "\n",
    "groupByCounty = data.groupby(by = [\"COUNTY\"])['COMMON NAME'].value_counts()\n",
    "\n",
    "groupByCounty\n"
   ]
  },
  {
   "cell_type": "code",
   "execution_count": 77,
   "id": "e87a0078",
   "metadata": {
    "ExecuteTime": {
     "end_time": "2024-04-24T16:24:56.364725Z",
     "start_time": "2024-04-24T16:24:55.372785Z"
    },
    "tags": []
   },
   "outputs": [],
   "source": [
    "countyFeatures = []\n",
    "\n",
    "for county in counties:\n",
    "    counts = {i: groupByCounty[county][i] for i in groupByCounty[county].index}\n",
    "    countyFeatures.append(County(county, birds, counts))\n",
    "\n",
    "\n",
    "for county in countyFeatures:\n",
    "    county.getFeatures()"
   ]
  },
  {
   "cell_type": "code",
   "execution_count": 78,
   "id": "4dd93841",
   "metadata": {
    "ExecuteTime": {
     "end_time": "2024-04-24T16:27:13.125899Z",
     "start_time": "2024-04-24T16:27:13.103280Z"
    },
    "tags": []
   },
   "outputs": [
    {
     "name": "stdout",
     "output_type": "stream",
     "text": [
      "Please enter in your favorite birds and yourrating for them out of 5! \n",
      "Please use dictionary format: \n",
      "{\"Bald Eagle\": 5, \"Red-winged Blackbird\": 1} \n",
      "Here are some example birds for you to choose from: \n",
      "\n",
      " ['Eastern Kingbird', 'Bohemian/Cedar Waxwing', 'White-faced Ibis', 'Snow x Cackling Goose (hybrid)', 'Herring/Glaucous-winged Gull', 'American Three-toed Woodpecker', 'Rufous Hummingbird', 'Cave Swallow', 'Spotted Towhee', 'Song Sparrow'] \n",
      "\n",
      "Enter \"Q\" to quit\n",
      "Or \"B\" to use the example dictionary as your bird scores\n"
     ]
    },
    {
     "name": "stdin",
     "output_type": "stream",
     "text": [
      " B\n"
     ]
    },
    {
     "name": "stdout",
     "output_type": "stream",
     "text": [
      "The best counties to see the birds you like are:  ['San Juan', 'Clear Creek', 'Las Animas', 'Gilpin', 'Phillips']\n"
     ]
    }
   ],
   "source": [
    "def getUserInput():\n",
    "    '''\n",
    "    Recieve input from user to get user's favorite bird scores\n",
    "    returns dictionary of user's bird scores\n",
    "    '''\n",
    "    randomBirds = random.choices(list(birds), k=10)\n",
    "    print('Please enter in your favorite birds and your'\\\n",
    "              'rating for them out of 5! \\nPlease use dictionary '\\\n",
    "              'format: \\n{{\"Bald Eagle\": 5, \"Red-winged Blackbird\": 1}} \\n'\\\n",
    "              'Here are some example birds for you to choose from: \\n\\n {} \\n\\n'\\\n",
    "              'Enter \"Q\" to quit\\nOr \"B\" to use the example dictionary as your bird scores'.format(randomBirds))\n",
    "    while True:  \n",
    "        userInput = input()\n",
    "        if userInput == 'Q':\n",
    "            print('Exiting...')\n",
    "            return 'EXIT'\n",
    "        if userInput == 'B': # Shortcut for testing!!\n",
    "            return {\"Bald Eagle\": 5, \"Red-winged Blackbird\": 1}\n",
    "        try:\n",
    "            dictBirds = json.loads(userInput)\n",
    "            print('Input recieved, calculating best counties for you to visit...\\n')\n",
    "            return dictBirds\n",
    "        except json.JSONDecodeError:\n",
    "            print(\"Please make sure your input is in the correct dictionary format.\\n\")\n",
    "\n",
    "def getTop5Scores(user):\n",
    "    '''\n",
    "    Find top 5 counties for user\n",
    "    Use cosine similarity to compare user's scores to county's bird populations\n",
    "    returns list containing top 5 counties\n",
    "    '''\n",
    "    countyScore = []\n",
    "    for county in countyFeatures:\n",
    "        countyScore.append((county.name, cosSim(list(county.features.values()), list(user.features.values()))))\n",
    "    countyScore = sorted(countyScore, key = lambda x: x[1])\n",
    "    top5 = [x[0] for x in countyScore[:5]]\n",
    "    return top5\n",
    "\n",
    "\n",
    "\n",
    "    \n",
    "def recomendedCounties():\n",
    "    ratings = getUserInput() # Get user ratings\n",
    "    if ratings == 'EXIT':\n",
    "        return\n",
    "    user = User(ratings, birds)\n",
    "    user.getFeatures()\n",
    "    top5 = getTop5Scores(user) \n",
    "    print('The best counties to see the birds you like are: ', top5)\n",
    "    \n",
    "recomendedCounties()"
   ]
  },
  {
   "cell_type": "code",
   "execution_count": 79,
   "id": "44adc36f-7a86-4ad4-ab0b-b81cf9338ffd",
   "metadata": {},
   "outputs": [
    {
     "data": {
      "text/plain": [
       "numpy.ndarray"
      ]
     },
     "execution_count": 79,
     "metadata": {},
     "output_type": "execute_result"
    }
   ],
   "source": []
  },
  {
   "cell_type": "code",
   "execution_count": null,
   "id": "babc7669-a7d3-45e8-9db8-bf9e748e0a86",
   "metadata": {},
   "outputs": [],
   "source": []
  }
 ],
 "metadata": {
  "kernelspec": {
   "display_name": "Python 3 (ipykernel)",
   "language": "python",
   "name": "python3"
  },
  "language_info": {
   "codemirror_mode": {
    "name": "ipython",
    "version": 3
   },
   "file_extension": ".py",
   "mimetype": "text/x-python",
   "name": "python",
   "nbconvert_exporter": "python",
   "pygments_lexer": "ipython3",
   "version": "3.11.5"
  }
 },
 "nbformat": 4,
 "nbformat_minor": 5
}
