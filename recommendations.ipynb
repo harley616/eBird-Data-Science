{
 "cells": [
  {
   "cell_type": "markdown",
   "id": "218aac60",
   "metadata": {},
   "source": [
    "# Welcome to the Bird Probability Project"
   ]
  },
  {
   "cell_type": "code",
   "execution_count": 1,
   "id": "0eece46e",
   "metadata": {
    "ExecuteTime": {
     "end_time": "2024-04-24T01:35:07.026866Z",
     "start_time": "2024-04-24T01:35:06.772578Z"
    }
   },
   "outputs": [],
   "source": [
    "import pandas as pd\n",
    "import numpy as np\n",
    "import datetime \n"
   ]
  },
  {
   "cell_type": "code",
   "execution_count": 2,
   "id": "0c896ff0",
   "metadata": {
    "ExecuteTime": {
     "end_time": "2024-04-24T01:35:12.015276Z",
     "start_time": "2024-04-24T01:35:07.043369Z"
    }
   },
   "outputs": [
    {
     "data": {
      "text/html": [
       "<div>\n",
       "<style scoped>\n",
       "    .dataframe tbody tr th:only-of-type {\n",
       "        vertical-align: middle;\n",
       "    }\n",
       "\n",
       "    .dataframe tbody tr th {\n",
       "        vertical-align: top;\n",
       "    }\n",
       "\n",
       "    .dataframe thead th {\n",
       "        text-align: right;\n",
       "    }\n",
       "</style>\n",
       "<table border=\"1\" class=\"dataframe\">\n",
       "  <thead>\n",
       "    <tr style=\"text-align: right;\">\n",
       "      <th></th>\n",
       "      <th>Unnamed: 0</th>\n",
       "      <th>COMMON NAME</th>\n",
       "      <th>COUNTY</th>\n",
       "      <th>COUNTY CODE</th>\n",
       "      <th>LATITUDE</th>\n",
       "      <th>LONGITUDE</th>\n",
       "      <th>OBSERVATION DATE</th>\n",
       "      <th>NUMBER OBSERVERS</th>\n",
       "    </tr>\n",
       "  </thead>\n",
       "  <tbody>\n",
       "    <tr>\n",
       "      <th>0</th>\n",
       "      <td>0</td>\n",
       "      <td>Accipiter sp.</td>\n",
       "      <td>Adams</td>\n",
       "      <td>US-CO-001</td>\n",
       "      <td>39.947339</td>\n",
       "      <td>-104.747209</td>\n",
       "      <td>2020-01-10</td>\n",
       "      <td>1.0</td>\n",
       "    </tr>\n",
       "    <tr>\n",
       "      <th>1</th>\n",
       "      <td>1</td>\n",
       "      <td>American Crow</td>\n",
       "      <td>Adams</td>\n",
       "      <td>US-CO-001</td>\n",
       "      <td>39.797274</td>\n",
       "      <td>-104.931060</td>\n",
       "      <td>2020-01-01</td>\n",
       "      <td>5.0</td>\n",
       "    </tr>\n",
       "    <tr>\n",
       "      <th>2</th>\n",
       "      <td>2</td>\n",
       "      <td>American Crow</td>\n",
       "      <td>Adams</td>\n",
       "      <td>US-CO-001</td>\n",
       "      <td>39.789034</td>\n",
       "      <td>-104.905840</td>\n",
       "      <td>2020-01-02</td>\n",
       "      <td>1.0</td>\n",
       "    </tr>\n",
       "    <tr>\n",
       "      <th>3</th>\n",
       "      <td>3</td>\n",
       "      <td>American Crow</td>\n",
       "      <td>Adams</td>\n",
       "      <td>US-CO-001</td>\n",
       "      <td>39.830492</td>\n",
       "      <td>-104.948991</td>\n",
       "      <td>2020-01-01</td>\n",
       "      <td>10.0</td>\n",
       "    </tr>\n",
       "    <tr>\n",
       "      <th>4</th>\n",
       "      <td>4</td>\n",
       "      <td>American Crow</td>\n",
       "      <td>Adams</td>\n",
       "      <td>US-CO-001</td>\n",
       "      <td>39.830492</td>\n",
       "      <td>-104.948991</td>\n",
       "      <td>2020-01-01</td>\n",
       "      <td>10.0</td>\n",
       "    </tr>\n",
       "  </tbody>\n",
       "</table>\n",
       "</div>"
      ],
      "text/plain": [
       "   Unnamed: 0    COMMON NAME COUNTY COUNTY CODE   LATITUDE   LONGITUDE  \\\n",
       "0           0  Accipiter sp.  Adams   US-CO-001  39.947339 -104.747209   \n",
       "1           1  American Crow  Adams   US-CO-001  39.797274 -104.931060   \n",
       "2           2  American Crow  Adams   US-CO-001  39.789034 -104.905840   \n",
       "3           3  American Crow  Adams   US-CO-001  39.830492 -104.948991   \n",
       "4           4  American Crow  Adams   US-CO-001  39.830492 -104.948991   \n",
       "\n",
       "  OBSERVATION DATE  NUMBER OBSERVERS  \n",
       "0       2020-01-10               1.0  \n",
       "1       2020-01-01               5.0  \n",
       "2       2020-01-02               1.0  \n",
       "3       2020-01-01              10.0  \n",
       "4       2020-01-01              10.0  "
      ]
     },
     "execution_count": 2,
     "metadata": {},
     "output_type": "execute_result"
    }
   ],
   "source": [
    "# data = pd.read_csv('ebd_US-CO_202001_202312_smp_relMar-2024/ebd_US-CO_202001_202312_smp_relMar-2024.txt', sep = '\\t')\n",
    "# data = data[['COMMON NAME', 'COUNTY', 'COUNTY CODE', 'LATITUDE', 'LONGITUDE', 'OBSERVATION DATE', 'NUMBER OBSERVERS']]\n",
    "# data.to_csv('bird_data.csv')\n",
    "\n",
    "data = pd.read_csv('bird_data.csv')\n",
    "\n",
    "data.head(5)"
   ]
  },
  {
   "cell_type": "code",
   "execution_count": 39,
   "id": "5d8acdfd",
   "metadata": {
    "ExecuteTime": {
     "end_time": "2024-04-24T02:38:34.082249Z",
     "start_time": "2024-04-24T02:38:33.432046Z"
    }
   },
   "outputs": [],
   "source": [
    "counties = data['COUNTY'].unique()\n",
    "birds = data['COMMON NAME'].unique()\n",
    "\n",
    "rawDate = datetime.datetime.now()\n",
    "\n",
    "month = rawDate.month\n",
    "day = rawDate.day\n",
    "\n",
    "\n",
    "def getBirds(day, month, plusOrMinus):\n",
    "    \"\"\"\n",
    "    returns a data frame of birds that have been observed from various years during the same day and month\n",
    "    plus_or_minus so many days.\n",
    "    \n",
    "    \"\"\"\n",
    "    def distance(date, target):\n",
    "        '''\n",
    "        Helper function\n",
    "        returns the number of days away the date is from the target\n",
    "        '''\n",
    "        givenMonth = int(date[5:7])\n",
    "        targetMonth = int(target[5:7])\n",
    "        givenDay = int(date[8:])\n",
    "        targetDay = int(target[8:])\n",
    "        \n",
    "        total = abs(givenMonth - targetMonth)*30 #grab the difference in months\n",
    "        \n",
    "        if givenMonth > targetMonth:\n",
    "            total = total - targetDay + givenDay\n",
    "        elif givenMonth < targetMonth:\n",
    "            total = total - givenDay + targetDay\n",
    "        else: \n",
    "            total = abs(givenDay - targetDay)\n",
    "        \n",
    "        return total\n",
    "        \n",
    "     \n",
    "    if month > 10:\n",
    "        target = 'xxxx-{}-{}'.format(month,day) if day > 10 else 'xxxx-{}-0{}'.format(month,day)\n",
    "    else:\n",
    "        target = 'xxxx-0{}-{}'.format(month,day) if day > 10 else 'xxxx-0{}-0{}'.format(month,day)\n",
    "        \n",
    "\n",
    "    # This is not the best implementation, I am just lazy and didn't want to search for the right one (help if you can)\n",
    "    mask = pd.Series([distance(date, target) <= plusOrMinus for date in data['OBSERVATION DATE']])\n",
    "        \n",
    "    return data[mask]\n",
    "\n",
    "\n",
    "class County:\n",
    "    def __init__(self, name, birds, birdCounts):\n",
    "        self.name = name\n",
    "        self.features = {bird: 0.0 for bird in birds}\n",
    "        self.birdCounts = birdCounts #dictionary of bird name and count \n",
    "        \n",
    "    def getFeatures(self):\n",
    "        total = sum(list(self.birdCounts.values()))\n",
    "        for bird in self.birdCounts:\n",
    "            self.features[bird] = self.birdCounts[bird]/total\n",
    "        \n",
    "    \n",
    "class User:\n",
    "    def __init__(self, ratings, birds):\n",
    "        self.features = {bird: 0.0 for bird in birds}\n",
    "        self.ratings = ratings\n",
    "        \n",
    "    def getFeatures(self):\n",
    "        total = sum(list(self.ratings.values()))\n",
    "        for bird in self.ratings:\n",
    "            self.features[bird] = self.ratings[bird]/total\n",
    "\n",
    "\n",
    "def cosSim(a, b):           \n",
    "    return np.dot(a, b)/(np.linalg.norm(a)*np.linalg.norm(b))\n",
    "    "
   ]
  },
  {
   "cell_type": "markdown",
   "id": "c3da12b2",
   "metadata": {},
   "source": [
    "### Concern:\n",
    "Features are going to be the proportion of that bird in the area. Should this be weighted by count? If so that could skew the data so cities with higher populations get better ratings, so probably not. "
   ]
  },
  {
   "cell_type": "code",
   "execution_count": 7,
   "id": "eb9d4dcc",
   "metadata": {
    "ExecuteTime": {
     "end_time": "2024-04-24T01:45:19.204203Z",
     "start_time": "2024-04-24T01:45:13.372361Z"
    }
   },
   "outputs": [
    {
     "data": {
      "text/plain": [
       "COUNTY  COMMON NAME               \n",
       "Adams   Canada Goose                  19275\n",
       "        European Starling             18137\n",
       "        Red-winged Blackbird          17126\n",
       "        Mallard                       17013\n",
       "        Red-tailed Hawk               14750\n",
       "                                      ...  \n",
       "Yuma    Lesser/Greater Yellowlegs         1\n",
       "        Loggerhead/Northern Shrike        1\n",
       "        Fox Sparrow                       1\n",
       "        Eurasian/American Wigeon          1\n",
       "        wren sp.                          1\n",
       "Name: count, Length: 22281, dtype: int64"
      ]
     },
     "execution_count": 7,
     "metadata": {},
     "output_type": "execute_result"
    }
   ],
   "source": [
    "seasonal_birds_within_20_days = getBirds(day,month, 10)\n",
    "\n",
    "unique_birds_in_season = seasonal_birds_within_20_days['COMMON NAME'].unique()\n",
    "\n",
    "groupByCounty = data.groupby(by = [\"COUNTY\"])['COMMON NAME'].value_counts()\n",
    "\n",
    "groupByCounty\n"
   ]
  },
  {
   "cell_type": "code",
   "execution_count": 33,
   "id": "e87a0078",
   "metadata": {
    "ExecuteTime": {
     "end_time": "2024-04-24T02:14:35.633588Z",
     "start_time": "2024-04-24T02:14:34.626228Z"
    }
   },
   "outputs": [],
   "source": [
    "countyFeatures = []\n",
    "\n",
    "for county in counties:\n",
    "    counts = {i: groupByCounty[county][i] for i in groupByCounty[county].index}\n",
    "    countyFeatures.append(County(county, birds, counts))\n",
    "\n",
    "\n",
    "for county in countyFeatures:\n",
    "    county.getFeatures()"
   ]
  },
  {
   "cell_type": "code",
   "execution_count": 51,
   "id": "4dd93841",
   "metadata": {
    "ExecuteTime": {
     "end_time": "2024-04-24T02:48:32.909736Z",
     "start_time": "2024-04-24T02:48:32.890473Z"
    }
   },
   "outputs": [
    {
     "name": "stdout",
     "output_type": "stream",
     "text": [
      "The top county bases on your ratings are:  ['Clear Creek', 'San Juan', 'Summit', 'Gilpin', 'Pitkin']\n"
     ]
    }
   ],
   "source": [
    "ratings = {'Bald Eagle': 5, \"Red-winged Blackbird\": 4, 'Red-tailed Hawk': 5}\n",
    "\n",
    "user = User(ratings, birds)\n",
    "user.getFeatures()\n",
    "\n",
    "countyScore = []\n",
    "\n",
    "for county in countyFeatures:\n",
    "    countyScore.append((county.name, cosSim(list(county.features.values()), list(user.features.values()))))\n",
    "    \n",
    "countyScore = sorted(countyScore, key = lambda x: x[1])\n",
    "\n",
    "print('The top county bases on your ratings are: ', [x[0] for x in countyScore[:5]])\n",
    "\n"
   ]
  }
 ],
 "metadata": {
  "kernelspec": {
   "display_name": "Python 3 (ipykernel)",
   "language": "python",
   "name": "python3"
  },
  "language_info": {
   "codemirror_mode": {
    "name": "ipython",
    "version": 3
   },
   "file_extension": ".py",
   "mimetype": "text/x-python",
   "name": "python",
   "nbconvert_exporter": "python",
   "pygments_lexer": "ipython3",
   "version": "3.11.5"
  }
 },
 "nbformat": 4,
 "nbformat_minor": 5
}
